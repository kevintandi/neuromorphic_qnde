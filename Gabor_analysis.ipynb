{
  "cells": [
    {
      "cell_type": "code",
      "execution_count": 1,
      "metadata": {
        "collapsed": false
      },
      "outputs": [],
      "source": [
        "%matplotlib inline"
      ]
    },
    {
      "cell_type": "code",
      "execution_count": 2,
      "metadata": {},
      "outputs": [],
      "source": [
        "# import all necessary libraries\n",
        "from ipywidgets import interact, interactive, fixed, interact_manual\n",
        "import ipywidgets as widgets\n",
        "\n",
        "import matplotlib.pyplot as plt\n",
        "import numpy as np\n",
        "from scipy import ndimage as ndi\n",
        "import math\n",
        "\n",
        "from dv import AedatFile\n",
        "import cv2\n",
        "from time import sleep\n",
        "\n",
        "from skimage import data\n",
        "from skimage.util import img_as_float\n",
        "from skimage.filters import gabor_kernel"
      ]
    },
    {
      "cell_type": "code",
      "execution_count": 3,
      "metadata": {},
      "outputs": [
        {
          "name": "stdout",
          "output_type": "stream",
          "text": [
            "['events', 'frames', 'imu', 'triggers']\n"
          ]
        }
      ],
      "source": [
        "with AedatFile(\"./data/constant_652.4-2022_03_23_16_03_05.aedat4\") as f:\n",
        "    # list all the names of streams in the file\n",
        "    print(f.names)\n",
        "\n",
        "    # Access dimensions of the event stream\n",
        "    height, width = f['events'].size\n",
        "\n",
        "    # # loop through the \"events\" stream\n",
        "    # for e in f['events']:\n",
        "    #     print(e.timestamp)\n",
        "\n",
        "    # loop through the \"frames\" stream\n",
        "    # for frame in f['frames']:\n",
        "    #     #print(frame.timestamp)\n",
        "    #     plt.imshow(frame.image)\n",
        "    #     sleep(0.05)"
      ]
    },
    {
      "cell_type": "markdown",
      "metadata": {},
      "source": [
        "### Import as numpy file"
      ]
    },
    {
      "cell_type": "code",
      "execution_count": 3,
      "metadata": {},
      "outputs": [],
      "source": [
        "with AedatFile(\"./data/constant_652.4-2022_03_23_16_03_05.aedat4\") as f:\n",
        "    # events will be a named numpy array\n",
        "    events = np.hstack([packet for packet in f['events'].numpy()])\n",
        "\n",
        "    # Access information of all events by type\n",
        "    # t, x, y, p = events['timestamp'], events['x'], events['y'], events['polarity']\n",
        "    \n",
        "    # Access individual events information\n",
        "    event_123_x = events[123]['x']\n",
        "\n",
        "\n",
        "    # Get first 1000 events\n",
        "    sliced_events = events[100000:200000]\n",
        "    t, x, y, p = sliced_events['timestamp'], sliced_events['x'], sliced_events['y'], sliced_events['polarity']"
      ]
    },
    {
      "cell_type": "markdown",
      "metadata": {},
      "source": [
        "### Import simulation file"
      ]
    },
    {
      "cell_type": "code",
      "execution_count": 26,
      "metadata": {},
      "outputs": [],
      "source": [
        "# from numpy import genfromtxt \n",
        "\n",
        "# x, y = genfromtxt('./data/sim/x.csv', delimiter=','), genfromtxt('./data/sim/y.csv', delimiter=',')\n",
        "# t, p = genfromtxt('./data/sim/t.csv', delimiter=','), genfromtxt('./data/sim/p.csv', delimiter=',')\n",
        "\n",
        "# # Combine into tuple \n",
        "# event_tuple = list(zip(x,y,t,p))\n",
        "\n",
        "# events = np.array(event_tuple,dtype=[('x', '<i8'), ('y', '<i8'), ('t', '<i8'), ('p', '<i8')])"
      ]
    },
    {
      "cell_type": "code",
      "execution_count": 4,
      "metadata": {},
      "outputs": [
        {
          "data": {
            "text/plain": [
              "(array([132,  62,  15, ..., 284, 284, 218], dtype=int16),\n",
              " array([230, 125, 177, ..., 148, 255, 190], dtype=int16),\n",
              " array([1, 1, 1, ..., 0, 0, 0], dtype=int8),\n",
              " array([1648065785453482, 1648065785453483, 1648065785453485, ...,\n",
              "        1648065797133457, 1648065797133461, 1648065797133470], dtype=int64))"
            ]
          },
          "execution_count": 4,
          "metadata": {},
          "output_type": "execute_result"
        }
      ],
      "source": [
        "events['x'], events['y'], events['polarity'], events['timestamp'] # time in microseconds.."
      ]
    },
    {
      "cell_type": "code",
      "execution_count": 5,
      "metadata": {},
      "outputs": [
        {
          "name": "stdout",
          "output_type": "stream",
          "text": [
            "1 0\n"
          ]
        }
      ],
      "source": [
        "print(np.max(events['polarity']), np.min(events['polarity']))"
      ]
    },
    {
      "cell_type": "markdown",
      "metadata": {},
      "source": [
        "### plot 3d (turn into function)"
      ]
    },
    {
      "cell_type": "code",
      "execution_count": 6,
      "metadata": {},
      "outputs": [
        {
          "name": "stderr",
          "output_type": "stream",
          "text": [
            "<ipython-input-6-3b4ac20dac12>:18: UserWarning: Matplotlib is currently using module://ipykernel.pylab.backend_inline, which is a non-GUI backend, so cannot show the figure.\n",
            "  fig.show()\n"
          ]
        },
        {
          "data": {
            "image/png": "[encoded data removed]",
            "text/plain": [
              "<Figure size 1008x504 with 1 Axes>"
            ]
          },
          "metadata": {
            "needs_background": "light"
          },
          "output_type": "display_data"
        }
      ],
      "source": [
        "fig = plt.figure(figsize=(14,7))\n",
        "fig.suptitle('Side by side 3d and 2D slice ')\n",
        "ax = fig.add_subplot(111, projection='3d') \n",
        "\n",
        "# Data for three-dimensional scattered points\n",
        "zdata = y\n",
        "xdata = x\n",
        "ydata = t\n",
        "polarity = p\n",
        "ax.scatter3D(xdata, ydata, zdata, c=polarity, cmap= 'bwr', s=1)\n",
        "ax.set_xlabel('x')\n",
        "ax.set_ylabel('t')\n",
        "ax.set_zlabel('y')\n",
        "ax.invert_zaxis()\n",
        "\n",
        "#2d time surface slice \n",
        "#ax = fig.add_subplot(212)\n",
        "fig.show()"
      ]
    },
    {
      "cell_type": "markdown",
      "metadata": {},
      "source": [
        "### Convert to structured array"
      ]
    },
    {
      "cell_type": "code",
      "execution_count": 7,
      "metadata": {},
      "outputs": [
        {
          "name": "stdout",
          "output_type": "stream",
          "text": [
            "Data dimensions:  (733, 2, 260, 346)\n",
            "(2, 260, 346)\n"
          ]
        }
      ],
      "source": [
        "import tonic.transforms as transforms\n",
        "import tonic\n",
        "\n",
        "# convert to tonic recognized format\n",
        "structured_array  = tonic.io.make_structured_array(x,y,t,p)\n",
        "\n",
        "sampling_period = 500 # in microseconds\n",
        "\n",
        "frame_transform = transforms.ToFrame(sensor_size=(int(sliced_events[\"x\"].max() + 1),int(sliced_events[\"y\"].max() + 1),2), time_window=sampling_period)\n",
        "frames = frame_transform(structured_array) # numpy array with dimensions (TxPxHxW)\n",
        "print(\"Data dimensions: \", np.shape(frames))\n",
        "print(np.shape(frames[0]))"
      ]
    },
    {
      "cell_type": "code",
      "execution_count": 8,
      "metadata": {},
      "outputs": [
        {
          "data": {
            "text/plain": [
              "array([( 35,  63, 1648065786258113, False),\n",
              "       (185, 147, 1648065786258128,  True),\n",
              "       (268,  48, 1648065786258130,  True), ...,\n",
              "       ( 26,  19, 1648065786624689,  True),\n",
              "       (262,  71, 1648065786624693, False),\n",
              "       (258,  93, 1648065786624705, False)],\n",
              "      dtype=[('x', '<i2'), ('y', '<i2'), ('t', '<i8'), ('p', '?')])"
            ]
          },
          "execution_count": 8,
          "metadata": {},
          "output_type": "execute_result"
        }
      ],
      "source": [
        "structured_array # this is arranged with increasing timestamp..."
      ]
    },
    {
      "cell_type": "markdown",
      "metadata": {},
      "source": [
        "### Apply Gabor pixelwise according to eqn 9 in algorithm 1 (not implemented fully)"
      ]
    },
    {
      "cell_type": "code",
      "execution_count": 12,
      "metadata": {},
      "outputs": [
        {
          "ename": "AssertionError",
          "evalue": "",
          "output_type": "error",
          "traceback": [
            "\u001b[1;31m---------------------------------------------------------------------------\u001b[0m",
            "\u001b[1;31mAssertionError\u001b[0m                            Traceback (most recent call last)",
            "\u001b[1;32m<ipython-input-12-620f6cb7ba8b>\u001b[0m in \u001b[0;36m<module>\u001b[1;34m\u001b[0m\n\u001b[0;32m     55\u001b[0m     \u001b[0mneighbourhood\u001b[0m \u001b[1;33m=\u001b[0m \u001b[0mtonic\u001b[0m\u001b[1;33m.\u001b[0m\u001b[0mio\u001b[0m\u001b[1;33m.\u001b[0m\u001b[0mmake_structured_array\u001b[0m\u001b[1;33m(\u001b[0m\u001b[0mx_hat\u001b[0m\u001b[1;33m,\u001b[0m\u001b[0my_hat\u001b[0m\u001b[1;33m,\u001b[0m\u001b[0mt_hat\u001b[0m\u001b[1;33m,\u001b[0m\u001b[0mp_hat\u001b[0m\u001b[1;33m)\u001b[0m\u001b[1;33m\u001b[0m\u001b[1;33m\u001b[0m\u001b[0m\n\u001b[0;32m     56\u001b[0m     \u001b[0mS\u001b[0m \u001b[1;33m=\u001b[0m \u001b[0mframe_transform\u001b[0m\u001b[1;33m(\u001b[0m\u001b[0mneighbourhood\u001b[0m\u001b[1;33m)\u001b[0m \u001b[1;31m# numpy array with dimensions (TxPxHxW)\u001b[0m\u001b[1;33m\u001b[0m\u001b[1;33m\u001b[0m\u001b[0m\n\u001b[1;32m---> 57\u001b[1;33m     \u001b[1;32massert\u001b[0m \u001b[0mnp\u001b[0m\u001b[1;33m.\u001b[0m\u001b[0mshape\u001b[0m\u001b[1;33m(\u001b[0m\u001b[0mS\u001b[0m\u001b[1;33m)\u001b[0m\u001b[1;33m[\u001b[0m\u001b[1;36m0\u001b[0m\u001b[1;33m]\u001b[0m \u001b[1;33m==\u001b[0m \u001b[1;36m1\u001b[0m \u001b[1;31m# Sanity check, only one frame: eqn 8 evaluated at NxN neighbourhood and at time t of event.\u001b[0m\u001b[1;33m\u001b[0m\u001b[1;33m\u001b[0m\u001b[0m\n\u001b[0m\u001b[0;32m     58\u001b[0m \u001b[1;33m\u001b[0m\u001b[0m\n\u001b[0;32m     59\u001b[0m     \u001b[1;31m# Only get NxN centered at event! ie, crop S to s_hat...\u001b[0m\u001b[1;33m\u001b[0m\u001b[1;33m\u001b[0m\u001b[1;33m\u001b[0m\u001b[0m\n",
            "\u001b[1;31mAssertionError\u001b[0m: "
          ]
        }
      ],
      "source": [
        "from skimage.filters import gabor\n",
        "\n",
        "def normalize(data): \n",
        "    image = ((data - data.min()) * (1/(data.max() - data.min()) * 255)).astype('uint8') # First normalize to 0-255\n",
        "    return image\n",
        "\n",
        "### Apply gabor filter to each NxN (10x10) region \n",
        "\n",
        "# Loop through all the events and convert to time surface!\n",
        "N = 10 # neigbourhood size\n",
        "s_hat = np.ones((N, N))\n",
        "delta_t = 200  # check units later...\n",
        "start_i = 0\n",
        "\n",
        "frame_transform = transforms.ToFrame(sensor_size=(int(sliced_events[\"x\"].max() + 1), # Transform to accumulate events delta_t units ago\n",
        "                        int(sliced_events[\"y\"].max() + 1),2), time_window=delta_t) \n",
        "\n",
        "Output_phase = ... #????? Define this somehow...\n",
        "\n",
        "# First, find index after time delta_t has passed (start_i)\n",
        "for i in range(len(structured_array)): \n",
        "    if(structured_array[i][2] >= (structured_array[0][2] + delta_t)): \n",
        "        start_i = i \n",
        "        break \n",
        "\n",
        "# Note: Calculate s_hat one by one, and assign time stamp according to time t... (eqn 8)\n",
        "for i in range(start_i, len(structured_array)): \n",
        "\n",
        "    # For each event, create a temporary NxN array around the event! \n",
        "    s_hat = np.ones((N, N))\n",
        "    x_hat,y_hat,t_hat,p_hat = [], [], [], [] # note p_hat always 1 (ignore polarity)\n",
        "    \n",
        "    # Spatial neighbourhood limits\n",
        "    x_hat_max, x_hat_min = structured_array[i][0] + N/2, structured_array[i][0] - N/2\n",
        "    y_hat_max, y_hat_min = structured_array[i][1] + N/2, structured_array[i][1] - N/2 \n",
        "\n",
        "    t = structured_array[i][2] # timestamp \n",
        "\n",
        "    for j in range(i, len(structured_array)): # find events that are within spatial neighbourhood      \n",
        "        \n",
        "        # if more than delta_t (eqn 8), break from j loop\n",
        "        if(structured_array[j][2] > (structured_array[i][2] + delta_t)):\n",
        "            break\n",
        "\n",
        "        # get all spatial neighbourhood variables\n",
        "        if(structured_array[j][0] < x_hat_max and (structured_array[j][0] > x_hat_min) \n",
        "            and structured_array[i][1] < y_hat_max and (structured_array[j][1] > y_hat_min )):\n",
        "\n",
        "            x_hat.append(structured_array[j][0])\n",
        "            y_hat.append(structured_array[j][1])\n",
        "            t_hat.append(structured_array[j][2])\n",
        "            p_hat.append(1) # Any event will be assumed as 1.\n",
        "\n",
        "    # Create s_hat from spatial neighbourhood events \n",
        "    neighbourhood = tonic.io.make_structured_array(x_hat,y_hat,t_hat,p_hat) \n",
        "    S = frame_transform(neighbourhood) # numpy array with dimensions (TxPxHxW)\n",
        "    assert np.shape(S)[0] == 1 # Sanity check, only one frame: eqn 8 evaluated at NxN neighbourhood and at time t of event. \n",
        "    \n",
        "    # Only get NxN centered at event! ie, crop S to s_hat...\n",
        "    s_hat = S[x_hat_min:x_hat_max, y_hat_min:y_hat_max]\n",
        "\n",
        "    # Then Apply gabor filter to s_hat\n",
        "    re, im = gabor(normalize(s_hat), frequency = 0.9, sigma_x= 4, sigma_y=2, offset= 1) \n",
        "    phase = np.angle(re + 1j*im)\n",
        "    print(\"Data dimensions: \", np.shape(phase))\n",
        "    print(np.shape(phase))\n",
        "\n",
        "    # Apply smoothing filter (later)\n",
        "\n",
        "    # record time stamps for each event! \n",
        "\n",
        "\n",
        "    # Align phase matrix with response, and assign time stamps for all surrounding pixels\n",
        "\n",
        "\n",
        "    # Return local phase signals for each pixel\n",
        "     \n",
        "\n",
        "\n",
        "# Interpolate timestamps linearly "
      ]
    },
    {
      "cell_type": "markdown",
      "metadata": {},
      "source": [
        "### Test"
      ]
    },
    {
      "cell_type": "markdown",
      "metadata": {},
      "source": [
        "Apply Gabor frame by frame "
      ]
    },
    {
      "cell_type": "code",
      "execution_count": 9,
      "metadata": {},
      "outputs": [
        {
          "name": "stderr",
          "output_type": "stream",
          "text": [
            "<ipython-input-9-443def133ac9>:10: RuntimeWarning: divide by zero encountered in long_scalars\n",
            "  image = ((data - data.min()) * (1/(data.max() - data.min()) * 255)).astype('uint8') # First normalize to 0-255\n",
            "<ipython-input-9-443def133ac9>:10: RuntimeWarning: invalid value encountered in multiply\n",
            "  image = ((data - data.min()) * (1/(data.max() - data.min()) * 255)).astype('uint8') # First normalize to 0-255\n"
          ]
        },
        {
          "name": "stdout",
          "output_type": "stream",
          "text": [
            "before (733, 260, 346)\n",
            "After (733, 260, 346)\n"
          ]
        }
      ],
      "source": [
        "from skimage.filters import gabor\n",
        "from skimage import data, io\n",
        "from matplotlib import pyplot as plt\n",
        "import math\n",
        "\n",
        "### Apply Gabor filter frame by frame\n",
        "gabor_filtered = []\n",
        "\n",
        "def normalize(data): \n",
        "    image = ((data - data.min()) * (1/(data.max() - data.min()) * 255)).astype('uint8') # First normalize to 0-255\n",
        "    return image\n",
        "\n",
        "for i in range(len(frames)):    \n",
        "    # we only consider one polarity frames[i][0], should we consider the other one?\n",
        "    re, im = gabor(normalize(frames[i][0]), frequency= 0.94 , sigma_x = 10.0 , \n",
        "    sigma_y = 10.0 , n_stds= 3 , theta= -0.0326990816 , offset= 1.0)  \n",
        "    phase = np.imag(re + 1j*im)\n",
        "    gabor_filtered.append(phase)\n",
        "\n",
        "print(\"before\", np.shape(gabor_filtered))\n",
        "np.stack(gabor_filtered)\n",
        "np.shape(gabor_filtered)\n",
        "\n",
        "gabor_filtered = np.asarray(gabor_filtered)\n",
        "print(\"After\", np.shape(gabor_filtered)) # Takes about ~ 14 mins"
      ]
    },
    {
      "cell_type": "code",
      "execution_count": 26,
      "metadata": {},
      "outputs": [],
      "source": [
        "import scipy.io\n",
        "scipy.io.savemat('lala.mat',dict(x=gabor_filtered))"
      ]
    },
    {
      "cell_type": "markdown",
      "metadata": {},
      "source": [
        "### Visualize one gabor filter"
      ]
    },
    {
      "cell_type": "code",
      "execution_count": 31,
      "metadata": {},
      "outputs": [
        {
          "name": "stdout",
          "output_type": "stream",
          "text": [
            "Warning: Cannot change to a different GUI toolkit: qt. Using tk instead.\n",
            "frequency= 0.9 , sigma_x = 10.0 , sigma_y = 10.0 , n_stds= 3.0000000000000004 , theta= -0.03269908169872415 , offset= 1.0\n",
            "frequency= 0.9 , sigma_x = 10.0 , sigma_y = 10.0 , n_stds= 3.0000000000000004 , theta= -0.03269908169872415 , offset= 1.0\n",
            "frequency= 0.9 , sigma_x = 10.0 , sigma_y = 10.0 , n_stds= 3.0000000000000004 , theta= -0.03269908169872415 , offset= 1.0\n",
            "frequency= 0.9 , sigma_x = 10.0 , sigma_y = 10.0 , n_stds= 3.0000000000000004 , theta= -0.03269908169872415 , offset= 1.0\n",
            "frequency= 0.9 , sigma_x = 10.0 , sigma_y = 10.0 , n_stds= 3.0000000000000004 , theta= -0.03269908169872415 , offset= 1.0\n",
            "frequency= 0.9 , sigma_x = 10.0 , sigma_y = 10.0 , n_stds= 3.0000000000000004 , theta= -0.03269908169872415 , offset= 1.0\n",
            "frequency= 0.7000000000000001 , sigma_x = 10.0 , sigma_y = 10.0 , n_stds= 3.0000000000000004 , theta= -0.03269908169872415 , offset= 1.0\n",
            "frequency= 0.88 , sigma_x = 10.0 , sigma_y = 10.0 , n_stds= 3.0000000000000004 , theta= -0.03269908169872415 , offset= 1.0\n",
            "frequency= 0.96 , sigma_x = 10.0 , sigma_y = 10.0 , n_stds= 3.0000000000000004 , theta= -0.03269908169872415 , offset= 1.0\n",
            "frequency= 1.0 , sigma_x = 10.0 , sigma_y = 10.0 , n_stds= 3.0000000000000004 , theta= -0.03269908169872415 , offset= 1.0\n",
            "frequency= 0.9500000000000001 , sigma_x = 10.0 , sigma_y = 10.0 , n_stds= 3.0000000000000004 , theta= -0.03269908169872415 , offset= 1.0\n",
            "frequency= 0.9500000000000001 , sigma_x = 10.0 , sigma_y = 6.5 , n_stds= 3.0000000000000004 , theta= -0.03269908169872415 , offset= 1.0\n",
            "frequency= 0.9500000000000001 , sigma_x = 10.0 , sigma_y = 6.3 , n_stds= 3.0000000000000004 , theta= -0.03269908169872415 , offset= 1.0\n",
            "frequency= 0.9500000000000001 , sigma_x = 10.0 , sigma_y = 6.4 , n_stds= 3.0000000000000004 , theta= -0.03269908169872415 , offset= 1.0\n",
            "frequency= 0.9500000000000001 , sigma_x = 6.4 , sigma_y = 6.4 , n_stds= 3.0000000000000004 , theta= -0.03269908169872415 , offset= 1.0\n",
            "frequency= 0.9500000000000001 , sigma_x = 6.4 , sigma_y = 6.9 , n_stds= 3.0000000000000004 , theta= -0.03269908169872415 , offset= 1.0\n",
            "frequency= 0.9500000000000001 , sigma_x = 6.4 , sigma_y = 6.2 , n_stds= 3.0000000000000004 , theta= -0.03269908169872415 , offset= 1.0\n",
            "frequency= 0.9500000000000001 , sigma_x = 6.4 , sigma_y = 6.4 , n_stds= 3.0000000000000004 , theta= -0.03269908169872415 , offset= 1.0\n",
            "frequency= 0.9500000000000001 , sigma_x = 6.4 , sigma_y = 6.4 , n_stds= 3.0000000000000004 , theta= -0.03269908169872415 , offset= 1.0\n",
            "frequency= 0.9500000000000001 , sigma_x = 6.4 , sigma_y = 6.4 , n_stds= 3.0000000000000004 , theta= -0.03269908169872415 , offset= 1.0\n",
            "frequency= 0.9500000000000001 , sigma_x = 6.4 , sigma_y = 6.4 , n_stds= 3.0000000000000004 , theta= -0.03269908169872415 , offset= 1.0\n"
          ]
        }
      ],
      "source": [
        "%matplotlib qt \n",
        "\n",
        "import cv2\n",
        "import numpy as np\n",
        "import matplotlib.pyplot as plt\n",
        "from matplotlib.widgets import Slider, Button\n",
        "from IPython.display import display, clear_output\n",
        "import time\n",
        "\n",
        "# dashboard settings\n",
        "fig, (ax, ax_2) = plt.subplots(1, 2, figsize=(10,10))\n",
        "plt.subplots_adjust(left=0.25, bottom=0.45)\n",
        "\n",
        "# create slider spaces\n",
        "axcolor = 'lightgoldenrodyellow'\n",
        "ax_sliders = [plt.axes([0.25, 0.1 + 0.05 * i, 0.65, 0.03], facecolor=axcolor) for i in range(7)]\n",
        "\n",
        "# define parameter sliders\n",
        "frequency = Slider(ax_sliders[0], 'frequency', 0.0, 2, valinit=0.9, valstep=0.01)\n",
        "sigma_x = Slider(ax_sliders[1], 'sigma_x', 0.1, 20.0, valinit=10, valstep=0.1)\n",
        "sigma_y = Slider(ax_sliders[2], 'sigma_y', 0.1, 20.0, valinit=10, valstep=0.1)\n",
        "n_stds = Slider(ax_sliders[3], 'n_stds', 0.1, 20.0, valinit=3, valstep=0.1)\n",
        "theta = Slider(ax_sliders[4], 'theta', -np.pi/8, np.pi/8, valinit=-0.033, valstep=0.01)\n",
        "offset = Slider(ax_sliders[5], 'offset', -5, 5, valinit=1, valstep=0.1)\n",
        "i = Slider(ax_sliders[6], 'i', 0, 600, valinit=150, valstep=1)\n",
        "\n",
        "sliders = [frequency, sigma_x, sigma_y, n_stds, theta, offset,i]\n",
        "\n",
        "def update(val):\n",
        "    # on slider update recalculate gabor kernel\n",
        "    re, im = gabor(normalize(frames[i.val][0]), frequency = frequency.val, theta = theta.val, sigma_x= sigma_x.val,\n",
        "                sigma_y= sigma_y.val, offset= offset.val, n_stds= n_stds.val)\n",
        "\n",
        "    re2, im2 = gabor(normalize(frames[i.val+1][0]), frequency = frequency.val, theta = theta.val, sigma_x= sigma_x.val,\n",
        "                    sigma_y= sigma_y.val, offset= offset.val, n_stds= n_stds.val)\n",
        "\n",
        "    phase = np.angle(re2 + 1j*im2) - np.angle(re + 1j*im)\n",
        "\n",
        "    g_kernel = gabor_kernel(frequency = frequency.val, theta = theta.val, sigma_x= sigma_x.val,\n",
        "                sigma_y= sigma_y.val, offset= offset.val, n_stds= n_stds.val)\n",
        "    g_kernel_im = np.imag(g_kernel)\n",
        "\n",
        "    print(\"frequency=\", frequency.val,\",\", \"sigma_x =\", sigma_x.val,\",\", \"sigma_y =\", sigma_y.val,\",\",\n",
        "            \"n_stds=\", n_stds.val, \",\",\"theta=\", theta.val,\",\",\"offset=\", offset.val)\n",
        "    #frequency= 0.9400000000000001 , sigma_x = 10.0 , sigma_y = 10.0 , n_stds= 3.0000000000000004 , theta= -0.03269908169872415 , offset= 1.0\n",
        "\n",
        "    # show new img and gabor kernel\n",
        "    ax.imshow(phase, interpolation=\"nearest\", cmap='gray')\n",
        "    ax.set_title('gabor result on img', fontsize=10)\n",
        "    ax_2.imshow(g_kernel_im, interpolation=\"nearest\", cmap='gray')\n",
        "    ax_2.set_title('g_kernel_im', fontsize=10)\n",
        "\n",
        "\n",
        "for i in sliders:\n",
        "    i.on_changed(update)\n",
        "\n",
        "update(None)\n",
        "\n",
        "resetax = plt.axes([0.8, 0.025, 0.1, 0.04])\n",
        "button = Button(resetax, 'Reset', color=axcolor, hovercolor='0.975')\n",
        "\n",
        "\n",
        "def reset(event):\n",
        "    for slider in sliders:\n",
        "        slider.reset()\n",
        "\n",
        "button.on_clicked(reset)\n",
        "plt.show()\n"
      ]
    },
    {
      "cell_type": "markdown",
      "metadata": {},
      "source": [
        "### Compare Gabor and Time surface. "
      ]
    },
    {
      "cell_type": "code",
      "execution_count": 29,
      "metadata": {},
      "outputs": [
        {
          "name": "stdout",
          "output_type": "stream",
          "text": [
            "(733, 2, 260, 346)\n"
          ]
        },
        {
          "data": {
            "application/vnd.jupyter.widget-view+json": {
              "model_id": "7261b8773d8143eeb9abb82f3a8f2c6a",
              "version_major": 2,
              "version_minor": 0
            },
            "text/plain": [
              "interactive(children=(IntSlider(value=366, description='time', max=732), IntSlider(value=0, description='polar…"
            ]
          },
          "metadata": {},
          "output_type": "display_data"
        }
      ],
      "source": [
        "%matplotlib tk\n",
        "from ipywidgets import interact, interactive, fixed, interact_manual\n",
        "import ipywidgets as widgets\n",
        "\n",
        "print(np.shape(frames))\n",
        "f, [[ax1, ax2],[ax3, ax4]] = plt.subplots(2,2, figsize=(12,12))\n",
        "\n",
        "\n",
        "ax1.set_ylabel('y')\n",
        "ax1.set_xlabel('x')\n",
        "\n",
        "ax2.set_ylabel('Magnitude')\n",
        "ax2.set_xlabel('Time')\n",
        "\n",
        "\n",
        "def time_surface(time, polarity, x, y ):\n",
        "    # plot timesurface for specified time\n",
        "    ax1.imshow(frames[time,polarity,:, :])\n",
        "\n",
        "    # filtered for specified time\n",
        "    ax3.clear()\n",
        "    ax3.imshow(gabor_filtered[time,:, :])\n",
        "\n",
        "    # plot pixel over time\n",
        "    ax2.clear()\n",
        "    ax2.plot(frames[:,polarity,x, y])\n",
        "\n",
        "    #plot gabor_filtered pixel over time\n",
        "    ax4.clear()\n",
        "    ax4.plot(gabor_filtered[:,x, y])\n",
        "\n",
        "    plt.show()\n",
        "    return()\n",
        "\n",
        "# xy = (104,245)\n",
        "\n",
        "\n",
        "interact(time_surface, polarity =(0,1,1), time= (0, np.shape(frames)[0]-1, 1), x=(0, np.shape(frames[0][0])[0]-1, 1), y=(0, np.shape(frames[0][0])[1]-1, 1) );"
      ]
    },
    {
      "cell_type": "code",
      "execution_count": 16,
      "metadata": {},
      "outputs": [
        {
          "data": {
            "text/plain": [
              "(733, 2, 260, 346)"
            ]
          },
          "execution_count": 16,
          "metadata": {},
          "output_type": "execute_result"
        }
      ],
      "source": [
        "np.shape(frames)"
      ]
    },
    {
      "cell_type": "code",
      "execution_count": 17,
      "metadata": {},
      "outputs": [],
      "source": [
        "\n",
        "from numpy.fft import fft, ifft\n",
        "%matplotlib tk\n",
        "\n",
        "\n",
        "# Try fourier transform on one point \n",
        "plt.figure()\n",
        "\n",
        "# Sampling rate: number of measurements per second\n",
        "sr  = 1/(500*10**(-6))\n",
        "\n",
        "# sampling interval\n",
        "ts = 1.0/sr\n",
        "\n",
        "X = fft((gabor_filtered[:,70, 270])) #\n",
        "N = len(X)\n",
        "\n",
        "n = np.arange(N)\n",
        "T = N/sr\n",
        "freq = n/T \n",
        "\n",
        "# Get the one-sided specturm\n",
        "n_oneside = N//2\n",
        "# get the one side frequency\n",
        "f_oneside = freq[:n_oneside]\n",
        "\n",
        "plt.figure(figsize = (12, 6))\n",
        "plt.plot(f_oneside, np.abs(X[:n_oneside]), 'b')\n",
        "plt.xlabel('Frequency (Hz)')\n",
        "plt.ylabel('FFT Amplitude |X(freq)|')\n",
        "plt.show()"
      ]
    },
    {
      "cell_type": "code",
      "execution_count": 25,
      "metadata": {},
      "outputs": [
        {
          "data": {
            "application/vnd.plotly.v1+json": {
              "config": {
                "plotlyServerURL": "https://plot.ly"
              },
              "data": [
                {
                  "hovertemplate": "Frequency (Hz)=%{x}<br>FFT Amplitude |X(frequency)|=%{y}<extra></extra>",
                  "legendgroup": "",
                  "line": {
                    "color": "#636efa",
                    "dash": "solid"
                  },
                  "marker": {
                    "symbol": "circle"
                  },
                  "mode": "lines",
                  "name": "",
                  "orientation": "v",
                  "showlegend": false,
                  "type": "scatter",
                  "x": [
                    0,
                    2.728512960436562,
                    5.457025920873124,
                    8.185538881309686,
                    10.914051841746248,
                    13.642564802182811,
                    16.37107776261937,
                    19.099590723055936,
                    21.828103683492497,
                    24.556616643929058,
                    27.285129604365622,
                    30.013642564802183,
                    32.74215552523874,
                    35.470668485675304,
                    38.19918144611187,
                    40.92769440654843,
                    43.656207366984994,
                    46.384720327421554,
                    49.113233287858115,
                    51.84174624829468,
                    54.570259208731244,
                    57.298772169167805,
                    60.027285129604365,
                    62.755798090040926,
                    65.48431105047749,
                    68.21282401091405,
                    70.94133697135061,
                    73.66984993178718,
                    76.39836289222374,
                    79.1268758526603,
                    81.85538881309687,
                    84.58390177353343,
                    87.31241473396999,
                    90.04092769440655,
                    92.76944065484311,
                    95.49795361527967,
                    98.22646657571623,
                    100.9549795361528,
                    103.68349249658937,
                    106.41200545702593,
                    109.14051841746249,
                    111.86903137789905,
                    114.59754433833561,
                    117.32605729877217,
                    120.05457025920873,
                    122.78308321964529,
                    125.51159618008185,
                    128.24010914051843,
                    130.96862210095497,
                    133.69713506139155,
                    136.4256480218281,
                    139.15416098226467,
                    141.88267394270122,
                    144.6111869031378,
                    147.33969986357437,
                    150.0682128240109,
                    152.7967257844475,
                    155.52523874488404,
                    158.2537517053206,
                    160.98226466575716,
                    163.71077762619373,
                    166.43929058663028,
                    169.16780354706685,
                    171.89631650750343,
                    174.62482946793997,
                    177.35334242837655,
                    180.0818553888131,
                    182.81036834924967,
                    185.53888130968622,
                    188.2673942701228,
                    190.99590723055934,
                    193.72442019099591,
                    196.45293315143246,
                    199.18144611186904,
                    201.9099590723056,
                    204.63847203274216,
                    207.36698499317873,
                    210.09549795361528,
                    212.82401091405185,
                    215.5525238744884,
                    218.28103683492498,
                    221.00954979536152,
                    223.7380627557981,
                    226.46657571623464,
                    229.19508867667122,
                    231.9236016371078,
                    234.65211459754434,
                    237.38062755798092,
                    240.10914051841746,
                    242.83765347885404,
                    245.56616643929058,
                    248.29467939972716,
                    251.0231923601637,
                    253.75170532060028,
                    256.48021828103685,
                    259.2087312414734,
                    261.93724420190995,
                    264.66575716234655,
                    267.3942701227831,
                    270.12278308321964,
                    272.8512960436562,
                    275.5798090040928,
                    278.30832196452934,
                    281.0368349249659,
                    283.76534788540243,
                    286.49386084583904,
                    289.2223738062756,
                    291.95088676671213,
                    294.67939972714873,
                    297.4079126875853,
                    300.1364256480218,
                    302.8649386084584,
                    305.593451568895,
                    308.3219645293315,
                    311.05047748976807,
                    313.7789904502046,
                    316.5075034106412,
                    319.23601637107777,
                    321.9645293315143,
                    324.6930422919509,
                    327.42155525238746,
                    330.150068212824,
                    332.87858117326056,
                    335.60709413369716,
                    338.3356070941337,
                    341.06412005457025,
                    343.79263301500686,
                    346.5211459754434,
                    349.24965893587995,
                    351.9781718963165,
                    354.7066848567531,
                    357.43519781718965,
                    360.1637107776262,
                    362.89222373806274,
                    365.62073669849934,
                    368.3492496589359,
                    371.07776261937244,
                    373.80627557980904,
                    376.5347885402456,
                    379.26330150068213,
                    381.9918144611187,
                    384.7203274215553,
                    387.44884038199183,
                    390.1773533424284,
                    392.9058663028649,
                    395.6343792633015,
                    398.3628922237381,
                    401.0914051841746,
                    403.8199181446112,
                    406.54843110504777,
                    409.2769440654843,
                    412.00545702592086,
                    414.73396998635747,
                    417.462482946794,
                    420.19099590723056,
                    422.9195088676671,
                    425.6480218281037,
                    428.37653478854025,
                    431.1050477489768,
                    433.8335607094134,
                    436.56207366984995,
                    439.2905866302865,
                    442.01909959072304,
                    444.74761255115965,
                    447.4761255115962,
                    450.20463847203274,
                    452.9331514324693,
                    455.6616643929059,
                    458.39017735334244,
                    461.118690313779,
                    463.8472032742156,
                    466.57571623465213,
                    469.3042291950887,
                    472.0327421555252,
                    474.76125511596183,
                    477.4897680763984,
                    480.2182810368349,
                    482.94679399727147,
                    485.6753069577081,
                    488.4038199181446,
                    491.13233287858117,
                    493.86084583901777,
                    496.5893587994543,
                    499.31787175989086,
                    502.0463847203274,
                    504.774897680764,
                    507.50341064120056,
                    510.2319236016371,
                    512.9604365620737,
                    515.6889495225103,
                    518.4174624829468,
                    521.1459754433833,
                    523.8744884038199,
                    526.6030013642564,
                    529.3315143246931,
                    532.0600272851296,
                    534.7885402455662,
                    537.5170532060027,
                    540.2455661664393,
                    542.9740791268758,
                    545.7025920873124,
                    548.431105047749,
                    551.1596180081856,
                    553.8881309686221,
                    556.6166439290587,
                    559.3451568894952,
                    562.0736698499318,
                    564.8021828103683,
                    567.5306957708049,
                    570.2592087312415,
                    572.9877216916781,
                    575.7162346521146,
                    578.4447476125512,
                    581.1732605729877,
                    583.9017735334243,
                    586.6302864938608,
                    589.3587994542975,
                    592.087312414734,
                    594.8158253751706,
                    597.5443383356071,
                    600.2728512960437,
                    603.0013642564802,
                    605.7298772169167,
                    608.4583901773534,
                    611.18690313779,
                    613.9154160982265,
                    616.643929058663,
                    619.3724420190996,
                    622.1009549795361,
                    624.8294679399727,
                    627.5579809004092,
                    630.2864938608459,
                    633.0150068212824,
                    635.743519781719,
                    638.4720327421555,
                    641.2005457025921,
                    643.9290586630286,
                    646.6575716234652,
                    649.3860845839018,
                    652.1145975443384,
                    654.8431105047749,
                    657.5716234652115,
                    660.300136425648,
                    663.0286493860846,
                    665.7571623465211,
                    668.4856753069578,
                    671.2141882673943,
                    673.9427012278309,
                    676.6712141882674,
                    679.399727148704,
                    682.1282401091405,
                    684.856753069577,
                    687.5852660300137,
                    690.3137789904503,
                    693.0422919508868,
                    695.7708049113234,
                    698.4993178717599,
                    701.2278308321964,
                    703.956343792633,
                    706.6848567530695,
                    709.4133697135062,
                    712.1418826739427,
                    714.8703956343793,
                    717.5989085948158,
                    720.3274215552524,
                    723.0559345156889,
                    725.7844474761255,
                    728.5129604365621,
                    731.2414733969987,
                    733.9699863574352,
                    736.6984993178718,
                    739.4270122783083,
                    742.1555252387449,
                    744.8840381991814,
                    747.6125511596181,
                    750.3410641200546,
                    753.0695770804912,
                    755.7980900409277,
                    758.5266030013643,
                    761.2551159618008,
                    763.9836289222374,
                    766.7121418826739,
                    769.4406548431106,
                    772.1691678035471,
                    774.8976807639837,
                    777.6261937244202,
                    780.3547066848568,
                    783.0832196452933,
                    785.8117326057298,
                    788.5402455661665,
                    791.268758526603,
                    793.9972714870396,
                    796.7257844474761,
                    799.4542974079127,
                    802.1828103683492,
                    804.9113233287858,
                    807.6398362892224,
                    810.368349249659,
                    813.0968622100955,
                    815.8253751705321,
                    818.5538881309686,
                    821.2824010914052,
                    824.0109140518417,
                    826.7394270122783,
                    829.4679399727149,
                    832.1964529331515,
                    834.924965893588,
                    837.6534788540246,
                    840.3819918144611,
                    843.1105047748977,
                    845.8390177353342,
                    848.5675306957709,
                    851.2960436562074,
                    854.024556616644,
                    856.7530695770805,
                    859.481582537517,
                    862.2100954979536,
                    864.9386084583901,
                    867.6671214188268,
                    870.3956343792634,
                    873.1241473396999,
                    875.8526603001364,
                    878.581173260573,
                    881.3096862210095,
                    884.0381991814461,
                    886.7667121418826,
                    889.4952251023193,
                    892.2237380627558,
                    894.9522510231924,
                    897.6807639836289,
                    900.4092769440655,
                    903.137789904502,
                    905.8663028649386,
                    908.5948158253752,
                    911.3233287858118,
                    914.0518417462483,
                    916.7803547066849,
                    919.5088676671214,
                    922.237380627558,
                    924.9658935879945,
                    927.6944065484312,
                    930.4229195088677,
                    933.1514324693043,
                    935.8799454297408,
                    938.6084583901774,
                    941.3369713506139,
                    944.0654843110505,
                    946.7939972714871,
                    949.5225102319237,
                    952.2510231923602,
                    954.9795361527968,
                    957.7080491132333,
                    960.4365620736698,
                    963.1650750341064,
                    965.8935879945429,
                    968.6221009549796,
                    971.3506139154161,
                    974.0791268758527,
                    976.8076398362892,
                    979.5361527967258,
                    982.2646657571623,
                    984.9931787175989,
                    987.7216916780355,
                    990.4502046384721,
                    993.1787175989086,
                    995.9072305593452
                  ],
                  "xaxis": "x",
                  "y": [
                    434.4598053434419,
                    104.44894585191055,
                    34.95573309522049,
                    19.258000112218166,
                    34.5634038442059,
                    14.511927907926337,
                    18.138611481992164,
                    8.084838824531863,
                    17.613247261604094,
                    22.750393255297176,
                    12.281779922284565,
                    8.188261716911288,
                    25.807663006257666,
                    0.6266593221952872,
                    24.50158907222806,
                    42.00050003310985,
                    49.130585770574896,
                    22.27859866885532,
                    2.2896820627631596,
                    10.600512400857907,
                    17.985166890734288,
                    7.971688946518019,
                    18.008710628646867,
                    15.981034269952552,
                    14.560427207239288,
                    3.1239131043608483,
                    2.6778700337570323,
                    17.918769495942882,
                    4.220919831681249,
                    2.648594041028437,
                    13.744696342014455,
                    10.302479520835773,
                    36.98180680221836,
                    7.226575822670385,
                    13.01849362945918,
                    14.414933319147499,
                    8.706162518877436,
                    8.49842190669108,
                    16.327556828570117,
                    15.247779587284922,
                    11.883974980779895,
                    12.169162367368376,
                    8.369588726975206,
                    12.008521076989043,
                    9.080599022648478,
                    9.11020942556989,
                    23.601536546610955,
                    16.01170547890606,
                    7.481458641730333,
                    7.719857123493049,
                    23.596403633525856,
                    5.988310607726125,
                    8.234365104286553,
                    10.55737707621147,
                    11.589192969565207,
                    10.60095257448081,
                    7.7245330813661015,
                    7.05188552231556,
                    4.5775285995506225,
                    4.933088990314365,
                    13.90475178989352,
                    8.786577507922987,
                    10.531992404576977,
                    21.897799201977502,
                    3.6799147993779755,
                    6.3133848378277,
                    9.257272974841296,
                    5.946432777147489,
                    10.43031770971241,
                    3.4304427221690665,
                    15.526481859780088,
                    20.373085616953617,
                    12.478223126657607,
                    9.342807923631737,
                    10.125512581499649,
                    11.409030319262637,
                    14.457229699839278,
                    7.15863859603039,
                    1.543615382611393,
                    13.45751531101365,
                    11.951973794179873,
                    13.284921005940996,
                    7.898501266731364,
                    3.3818167164976893,
                    11.11284529111328,
                    7.844554593213619,
                    11.042920203898642,
                    9.537430079427176,
                    19.058140807647014,
                    23.47264908007306,
                    9.228133148749324,
                    5.472766826778515,
                    16.417690021402215,
                    11.863011189170965,
                    4.651145009888811,
                    8.207776276138498,
                    4.416039651833511,
                    6.929185206445401,
                    13.450909731411603,
                    8.574052418865504,
                    9.084694451402337,
                    14.65807826332264,
                    5.683539895561555,
                    15.444820865163473,
                    2.8284590418425544,
                    7.9970598251007905,
                    11.457947419086569,
                    9.423475006892064,
                    15.272946472937376,
                    9.2265657393263,
                    26.44703039222057,
                    2.0766466582445195,
                    13.47593957321614,
                    8.179467865866632,
                    4.895983505638579,
                    16.059436274042273,
                    1.3842611078043223,
                    9.343264092007422,
                    6.004291473813156,
                    5.148852319414308,
                    13.004357671552222,
                    14.694077504266154,
                    12.390981681042167,
                    9.855978300646434,
                    6.791183287107308,
                    10.918094714862061,
                    14.15208339202801,
                    13.710853668294508,
                    24.07239021543235,
                    13.955008137606995,
                    2.064711242638828,
                    7.275968367135025,
                    13.772452485682646,
                    26.56593418621549,
                    9.530516456972554,
                    19.237272950522975,
                    10.794675464997466,
                    18.855826209895387,
                    29.242193900555137,
                    11.942630473001751,
                    13.837592177267755,
                    18.473313448876986,
                    8.451758238941022,
                    7.5345644281813415,
                    8.34900872611959,
                    5.286905232573897,
                    11.631525879202059,
                    7.191860928559321,
                    21.74795584411179,
                    6.838312702705053,
                    13.14358564402831,
                    16.861284524906313,
                    4.507877963886537,
                    7.4486375575890555,
                    4.888102379869631,
                    18.244840917188693,
                    6.0471460640338295,
                    23.24444606862568,
                    6.340618392430142,
                    9.655834145670731,
                    9.894102734193567,
                    4.652757819788576,
                    15.728786957825735,
                    14.946363924655996,
                    8.620031184774774,
                    10.524547259086926,
                    8.003865792677836,
                    10.746782196976016,
                    11.833371374161143,
                    11.782325890640973,
                    10.654448957458488,
                    8.126852352994584,
                    5.493387350151991,
                    4.712760003913868,
                    5.140558497307473,
                    1.8427360090755713,
                    12.236455702738672,
                    6.850153354704138,
                    17.387398313025276,
                    19.252242603114894,
                    6.879846473464136,
                    6.216398904544698,
                    7.502962182547328,
                    4.0382642451734085,
                    11.494709768948155,
                    14.03600358190399,
                    11.802413648928171,
                    13.208867896142724,
                    4.9028152931537,
                    34.153053797075515,
                    18.215309361205268,
                    11.064252410847228,
                    10.187614934113622,
                    19.024076573075263,
                    6.370772759364238,
                    6.303023727734597,
                    4.13014766022704,
                    27.428981230890088,
                    14.953950468276036,
                    18.16223031167876,
                    4.027381055868505,
                    20.440642087873076,
                    15.411107331651815,
                    13.678473256732905,
                    19.33184561475036,
                    2.9669836358266175,
                    20.56989200460964,
                    22.843181302241593,
                    5.849726872774336,
                    5.048131807383604,
                    14.149566188395013,
                    6.965461241751418,
                    16.909736191763738,
                    12.723754784848728,
                    4.6247345599285845,
                    19.975875059561456,
                    11.021102523502224,
                    11.839617821002593,
                    5.760371872001897,
                    16.028746425616745,
                    7.192450491658312,
                    12.620615934836016,
                    11.141482335002763,
                    8.181036285488862,
                    20.563376010453553,
                    3.342509195200657,
                    9.483000695104115,
                    16.507075746236985,
                    9.390290130588868,
                    4.798768102207344,
                    13.71333659404594,
                    17.304520733780535,
                    15.220030482024528,
                    13.867010271369491,
                    8.396318320649991,
                    10.492958422872766,
                    16.742778124699626,
                    13.556302482631779,
                    16.56834436731276,
                    118.70651097734235,
                    52.04122754845843,
                    8.95326102200161,
                    6.767179385817916,
                    9.698155419152625,
                    9.559696054228697,
                    9.549356611872755,
                    14.307973169379395,
                    6.326634530529953,
                    24.772699843063528,
                    19.370144092279716,
                    2.128755519840445,
                    6.6842878406112085,
                    12.448857157463367,
                    14.02535003642028,
                    30.558697322167895,
                    91.85692400306662,
                    24.737505488515946,
                    4.977050034452359,
                    13.197531089355088,
                    21.392831647813622,
                    1.744912030409327,
                    27.28270545461922,
                    20.146020730948447,
                    11.475018800914727,
                    8.780753814420926,
                    11.459216516395328,
                    3.4052368071663284,
                    8.677016238316217,
                    10.597917686811236,
                    10.059234020937543,
                    15.712528217204557,
                    14.292494774684194,
                    8.984556349635346,
                    14.940851430626937,
                    18.564946482961595,
                    16.03422700712451,
                    5.8533256845182295,
                    23.256299139345618,
                    9.85650827289724,
                    17.19324439610143,
                    9.932893330416576,
                    16.716789743176935,
                    12.289827643297897,
                    7.439030852944063,
                    20.863392520165338,
                    10.290657129623279,
                    18.707210558000433,
                    24.119710602773512,
                    9.00437302331718,
                    11.159034164540223,
                    13.073154175105103,
                    15.293884637763416,
                    23.728987796414803,
                    16.472074039313075,
                    7.329677501711699,
                    8.075337523875763,
                    14.006715216954643,
                    16.923797156269092,
                    14.55766828557506,
                    2.627619509651476,
                    10.122513774931978,
                    18.268587644244512,
                    23.992478483347234,
                    13.174707433684077,
                    9.005552273709828,
                    12.782784239408507,
                    11.706248041813875,
                    2.667404284531925,
                    9.636597752081613,
                    9.717048614128876,
                    16.02777390812488,
                    14.549482639763017,
                    5.077177545293421,
                    7.377252534600646,
                    14.237614769599965,
                    5.93343068431635,
                    7.815897275840222,
                    1.9234994971703936,
                    8.878058993018174,
                    4.985295417352538,
                    12.039133946190123,
                    1.9752360089783498,
                    17.266684147176587,
                    8.289020085858773,
                    5.173476832916235,
                    10.349425679190515,
                    8.021209254804106,
                    13.396423115492194,
                    10.546863527192736,
                    14.82231007222196,
                    4.489712660028175,
                    19.753697488432774,
                    9.914078207764014,
                    12.319751845005348,
                    5.9725079153362755,
                    10.624032115395124,
                    1.5713293632391487,
                    11.00122360206734,
                    10.627085782241332,
                    13.853900359765282,
                    3.7634612973946897,
                    10.216904938763303,
                    8.162159145791433,
                    11.789261257011981,
                    12.194088044578201,
                    10.505449981141425,
                    9.953912319047205,
                    9.502817531729963,
                    17.986457749734278,
                    13.878164745697223,
                    3.8393743353056142,
                    23.944781446957833,
                    2.902747845043272,
                    25.3793110851307,
                    17.885123913530936,
                    5.58321614214012,
                    10.751509181153212,
                    12.468173154019441,
                    9.26334331525117,
                    10.833475174664716,
                    15.493109087828513,
                    24.916113035135538,
                    7.296680477724901,
                    8.449652758804586,
                    14.696550773765914,
                    14.337760127905172
                  ],
                  "yaxis": "y"
                }
              ],
              "layout": {
                "legend": {
                  "tracegroupgap": 0
                },
                "margin": {
                  "t": 60
                },
                "template": {
                  "data": {
                    "bar": [
                      {
                        "error_x": {
                          "color": "#2a3f5f"
                        },
                        "error_y": {
                          "color": "#2a3f5f"
                        },
                        "marker": {
                          "line": {
                            "color": "#E5ECF6",
                            "width": 0.5
                          },
                          "pattern": {
                            "fillmode": "overlay",
                            "size": 10,
                            "solidity": 0.2
                          }
                        },
                        "type": "bar"
                      }
                    ],
                    "barpolar": [
                      {
                        "marker": {
                          "line": {
                            "color": "#E5ECF6",
                            "width": 0.5
                          },
                          "pattern": {
                            "fillmode": "overlay",
                            "size": 10,
                            "solidity": 0.2
                          }
                        },
                        "type": "barpolar"
                      }
                    ],
                    "carpet": [
                      {
                        "aaxis": {
                          "endlinecolor": "#2a3f5f",
                          "gridcolor": "white",
                          "linecolor": "white",
                          "minorgridcolor": "white",
                          "startlinecolor": "#2a3f5f"
                        },
                        "baxis": {
                          "endlinecolor": "#2a3f5f",
                          "gridcolor": "white",
                          "linecolor": "white",
                          "minorgridcolor": "white",
                          "startlinecolor": "#2a3f5f"
                        },
                        "type": "carpet"
                      }
                    ],
                    "choropleth": [
                      {
                        "colorbar": {
                          "outlinewidth": 0,
                          "ticks": ""
                        },
                        "type": "choropleth"
                      }
                    ],
                    "contour": [
                      {
                        "colorbar": {
                          "outlinewidth": 0,
                          "ticks": ""
                        },
                        "colorscale": [
                          [
                            0,
                            "#0d0887"
                          ],
                          [
                            0.1111111111111111,
                            "#46039f"
                          ],
                          [
                            0.2222222222222222,
                            "#7201a8"
                          ],
                          [
                            0.3333333333333333,
                            "#9c179e"
                          ],
                          [
                            0.4444444444444444,
                            "#bd3786"
                          ],
                          [
                            0.5555555555555556,
                            "#d8576b"
                          ],
                          [
                            0.6666666666666666,
                            "#ed7953"
                          ],
                          [
                            0.7777777777777778,
                            "#fb9f3a"
                          ],
                          [
                            0.8888888888888888,
                            "#fdca26"
                          ],
                          [
                            1,
                            "#f0f921"
                          ]
                        ],
                        "type": "contour"
                      }
                    ],
                    "contourcarpet": [
                      {
                        "colorbar": {
                          "outlinewidth": 0,
                          "ticks": ""
                        },
                        "type": "contourcarpet"
                      }
                    ],
                    "heatmap": [
                      {
                        "colorbar": {
                          "outlinewidth": 0,
                          "ticks": ""
                        },
                        "colorscale": [
                          [
                            0,
                            "#0d0887"
                          ],
                          [
                            0.1111111111111111,
                            "#46039f"
                          ],
                          [
                            0.2222222222222222,
                            "#7201a8"
                          ],
                          [
                            0.3333333333333333,
                            "#9c179e"
                          ],
                          [
                            0.4444444444444444,
                            "#bd3786"
                          ],
                          [
                            0.5555555555555556,
                            "#d8576b"
                          ],
                          [
                            0.6666666666666666,
                            "#ed7953"
                          ],
                          [
                            0.7777777777777778,
                            "#fb9f3a"
                          ],
                          [
                            0.8888888888888888,
                            "#fdca26"
                          ],
                          [
                            1,
                            "#f0f921"
                          ]
                        ],
                        "type": "heatmap"
                      }
                    ],
                    "heatmapgl": [
                      {
                        "colorbar": {
                          "outlinewidth": 0,
                          "ticks": ""
                        },
                        "colorscale": [
                          [
                            0,
                            "#0d0887"
                          ],
                          [
                            0.1111111111111111,
                            "#46039f"
                          ],
                          [
                            0.2222222222222222,
                            "#7201a8"
                          ],
                          [
                            0.3333333333333333,
                            "#9c179e"
                          ],
                          [
                            0.4444444444444444,
                            "#bd3786"
                          ],
                          [
                            0.5555555555555556,
                            "#d8576b"
                          ],
                          [
                            0.6666666666666666,
                            "#ed7953"
                          ],
                          [
                            0.7777777777777778,
                            "#fb9f3a"
                          ],
                          [
                            0.8888888888888888,
                            "#fdca26"
                          ],
                          [
                            1,
                            "#f0f921"
                          ]
                        ],
                        "type": "heatmapgl"
                      }
                    ],
                    "histogram": [
                      {
                        "marker": {
                          "pattern": {
                            "fillmode": "overlay",
                            "size": 10,
                            "solidity": 0.2
                          }
                        },
                        "type": "histogram"
                      }
                    ],
                    "histogram2d": [
                      {
                        "colorbar": {
                          "outlinewidth": 0,
                          "ticks": ""
                        },
                        "colorscale": [
                          [
                            0,
                            "#0d0887"
                          ],
                          [
                            0.1111111111111111,
                            "#46039f"
                          ],
                          [
                            0.2222222222222222,
                            "#7201a8"
                          ],
                          [
                            0.3333333333333333,
                            "#9c179e"
                          ],
                          [
                            0.4444444444444444,
                            "#bd3786"
                          ],
                          [
                            0.5555555555555556,
                            "#d8576b"
                          ],
                          [
                            0.6666666666666666,
                            "#ed7953"
                          ],
                          [
                            0.7777777777777778,
                            "#fb9f3a"
                          ],
                          [
                            0.8888888888888888,
                            "#fdca26"
                          ],
                          [
                            1,
                            "#f0f921"
                          ]
                        ],
                        "type": "histogram2d"
                      }
                    ],
                    "histogram2dcontour": [
                      {
                        "colorbar": {
                          "outlinewidth": 0,
                          "ticks": ""
                        },
                        "colorscale": [
                          [
                            0,
                            "#0d0887"
                          ],
                          [
                            0.1111111111111111,
                            "#46039f"
                          ],
                          [
                            0.2222222222222222,
                            "#7201a8"
                          ],
                          [
                            0.3333333333333333,
                            "#9c179e"
                          ],
                          [
                            0.4444444444444444,
                            "#bd3786"
                          ],
                          [
                            0.5555555555555556,
                            "#d8576b"
                          ],
                          [
                            0.6666666666666666,
                            "#ed7953"
                          ],
                          [
                            0.7777777777777778,
                            "#fb9f3a"
                          ],
                          [
                            0.8888888888888888,
                            "#fdca26"
                          ],
                          [
                            1,
                            "#f0f921"
                          ]
                        ],
                        "type": "histogram2dcontour"
                      }
                    ],
                    "mesh3d": [
                      {
                        "colorbar": {
                          "outlinewidth": 0,
                          "ticks": ""
                        },
                        "type": "mesh3d"
                      }
                    ],
                    "parcoords": [
                      {
                        "line": {
                          "colorbar": {
                            "outlinewidth": 0,
                            "ticks": ""
                          }
                        },
                        "type": "parcoords"
                      }
                    ],
                    "pie": [
                      {
                        "automargin": true,
                        "type": "pie"
                      }
                    ],
                    "scatter": [
                      {
                        "marker": {
                          "colorbar": {
                            "outlinewidth": 0,
                            "ticks": ""
                          }
                        },
                        "type": "scatter"
                      }
                    ],
                    "scatter3d": [
                      {
                        "line": {
                          "colorbar": {
                            "outlinewidth": 0,
                            "ticks": ""
                          }
                        },
                        "marker": {
                          "colorbar": {
                            "outlinewidth": 0,
                            "ticks": ""
                          }
                        },
                        "type": "scatter3d"
                      }
                    ],
                    "scattercarpet": [
                      {
                        "marker": {
                          "colorbar": {
                            "outlinewidth": 0,
                            "ticks": ""
                          }
                        },
                        "type": "scattercarpet"
                      }
                    ],
                    "scattergeo": [
                      {
                        "marker": {
                          "colorbar": {
                            "outlinewidth": 0,
                            "ticks": ""
                          }
                        },
                        "type": "scattergeo"
                      }
                    ],
                    "scattergl": [
                      {
                        "marker": {
                          "colorbar": {
                            "outlinewidth": 0,
                            "ticks": ""
                          }
                        },
                        "type": "scattergl"
                      }
                    ],
                    "scattermapbox": [
                      {
                        "marker": {
                          "colorbar": {
                            "outlinewidth": 0,
                            "ticks": ""
                          }
                        },
                        "type": "scattermapbox"
                      }
                    ],
                    "scatterpolar": [
                      {
                        "marker": {
                          "colorbar": {
                            "outlinewidth": 0,
                            "ticks": ""
                          }
                        },
                        "type": "scatterpolar"
                      }
                    ],
                    "scatterpolargl": [
                      {
                        "marker": {
                          "colorbar": {
                            "outlinewidth": 0,
                            "ticks": ""
                          }
                        },
                        "type": "scatterpolargl"
                      }
                    ],
                    "scatterternary": [
                      {
                        "marker": {
                          "colorbar": {
                            "outlinewidth": 0,
                            "ticks": ""
                          }
                        },
                        "type": "scatterternary"
                      }
                    ],
                    "surface": [
                      {
                        "colorbar": {
                          "outlinewidth": 0,
                          "ticks": ""
                        },
                        "colorscale": [
                          [
                            0,
                            "#0d0887"
                          ],
                          [
                            0.1111111111111111,
                            "#46039f"
                          ],
                          [
                            0.2222222222222222,
                            "#7201a8"
                          ],
                          [
                            0.3333333333333333,
                            "#9c179e"
                          ],
                          [
                            0.4444444444444444,
                            "#bd3786"
                          ],
                          [
                            0.5555555555555556,
                            "#d8576b"
                          ],
                          [
                            0.6666666666666666,
                            "#ed7953"
                          ],
                          [
                            0.7777777777777778,
                            "#fb9f3a"
                          ],
                          [
                            0.8888888888888888,
                            "#fdca26"
                          ],
                          [
                            1,
                            "#f0f921"
                          ]
                        ],
                        "type": "surface"
                      }
                    ],
                    "table": [
                      {
                        "cells": {
                          "fill": {
                            "color": "#EBF0F8"
                          },
                          "line": {
                            "color": "white"
                          }
                        },
                        "header": {
                          "fill": {
                            "color": "#C8D4E3"
                          },
                          "line": {
                            "color": "white"
                          }
                        },
                        "type": "table"
                      }
                    ]
                  },
                  "layout": {
                    "annotationdefaults": {
                      "arrowcolor": "#2a3f5f",
                      "arrowhead": 0,
                      "arrowwidth": 1
                    },
                    "autotypenumbers": "strict",
                    "coloraxis": {
                      "colorbar": {
                        "outlinewidth": 0,
                        "ticks": ""
                      }
                    },
                    "colorscale": {
                      "diverging": [
                        [
                          0,
                          "#8e0152"
                        ],
                        [
                          0.1,
                          "#c51b7d"
                        ],
                        [
                          0.2,
                          "#de77ae"
                        ],
                        [
                          0.3,
                          "#f1b6da"
                        ],
                        [
                          0.4,
                          "#fde0ef"
                        ],
                        [
                          0.5,
                          "#f7f7f7"
                        ],
                        [
                          0.6,
                          "#e6f5d0"
                        ],
                        [
                          0.7,
                          "#b8e186"
                        ],
                        [
                          0.8,
                          "#7fbc41"
                        ],
                        [
                          0.9,
                          "#4d9221"
                        ],
                        [
                          1,
                          "#276419"
                        ]
                      ],
                      "sequential": [
                        [
                          0,
                          "#0d0887"
                        ],
                        [
                          0.1111111111111111,
                          "#46039f"
                        ],
                        [
                          0.2222222222222222,
                          "#7201a8"
                        ],
                        [
                          0.3333333333333333,
                          "#9c179e"
                        ],
                        [
                          0.4444444444444444,
                          "#bd3786"
                        ],
                        [
                          0.5555555555555556,
                          "#d8576b"
                        ],
                        [
                          0.6666666666666666,
                          "#ed7953"
                        ],
                        [
                          0.7777777777777778,
                          "#fb9f3a"
                        ],
                        [
                          0.8888888888888888,
                          "#fdca26"
                        ],
                        [
                          1,
                          "#f0f921"
                        ]
                      ],
                      "sequentialminus": [
                        [
                          0,
                          "#0d0887"
                        ],
                        [
                          0.1111111111111111,
                          "#46039f"
                        ],
                        [
                          0.2222222222222222,
                          "#7201a8"
                        ],
                        [
                          0.3333333333333333,
                          "#9c179e"
                        ],
                        [
                          0.4444444444444444,
                          "#bd3786"
                        ],
                        [
                          0.5555555555555556,
                          "#d8576b"
                        ],
                        [
                          0.6666666666666666,
                          "#ed7953"
                        ],
                        [
                          0.7777777777777778,
                          "#fb9f3a"
                        ],
                        [
                          0.8888888888888888,
                          "#fdca26"
                        ],
                        [
                          1,
                          "#f0f921"
                        ]
                      ]
                    },
                    "colorway": [
                      "#636efa",
                      "#EF553B",
                      "#00cc96",
                      "#ab63fa",
                      "#FFA15A",
                      "#19d3f3",
                      "#FF6692",
                      "#B6E880",
                      "#FF97FF",
                      "#FECB52"
                    ],
                    "font": {
                      "color": "#2a3f5f"
                    },
                    "geo": {
                      "bgcolor": "white",
                      "lakecolor": "white",
                      "landcolor": "#E5ECF6",
                      "showlakes": true,
                      "showland": true,
                      "subunitcolor": "white"
                    },
                    "hoverlabel": {
                      "align": "left"
                    },
                    "hovermode": "closest",
                    "mapbox": {
                      "style": "light"
                    },
                    "paper_bgcolor": "white",
                    "plot_bgcolor": "#E5ECF6",
                    "polar": {
                      "angularaxis": {
                        "gridcolor": "white",
                        "linecolor": "white",
                        "ticks": ""
                      },
                      "bgcolor": "#E5ECF6",
                      "radialaxis": {
                        "gridcolor": "white",
                        "linecolor": "white",
                        "ticks": ""
                      }
                    },
                    "scene": {
                      "xaxis": {
                        "backgroundcolor": "#E5ECF6",
                        "gridcolor": "white",
                        "gridwidth": 2,
                        "linecolor": "white",
                        "showbackground": true,
                        "ticks": "",
                        "zerolinecolor": "white"
                      },
                      "yaxis": {
                        "backgroundcolor": "#E5ECF6",
                        "gridcolor": "white",
                        "gridwidth": 2,
                        "linecolor": "white",
                        "showbackground": true,
                        "ticks": "",
                        "zerolinecolor": "white"
                      },
                      "zaxis": {
                        "backgroundcolor": "#E5ECF6",
                        "gridcolor": "white",
                        "gridwidth": 2,
                        "linecolor": "white",
                        "showbackground": true,
                        "ticks": "",
                        "zerolinecolor": "white"
                      }
                    },
                    "shapedefaults": {
                      "line": {
                        "color": "#2a3f5f"
                      }
                    },
                    "ternary": {
                      "aaxis": {
                        "gridcolor": "white",
                        "linecolor": "white",
                        "ticks": ""
                      },
                      "baxis": {
                        "gridcolor": "white",
                        "linecolor": "white",
                        "ticks": ""
                      },
                      "bgcolor": "#E5ECF6",
                      "caxis": {
                        "gridcolor": "white",
                        "linecolor": "white",
                        "ticks": ""
                      }
                    },
                    "title": {
                      "x": 0.05
                    },
                    "xaxis": {
                      "automargin": true,
                      "gridcolor": "white",
                      "linecolor": "white",
                      "ticks": "",
                      "title": {
                        "standoff": 15
                      },
                      "zerolinecolor": "white",
                      "zerolinewidth": 2
                    },
                    "yaxis": {
                      "automargin": true,
                      "gridcolor": "white",
                      "linecolor": "white",
                      "ticks": "",
                      "title": {
                        "standoff": 15
                      },
                      "zerolinecolor": "white",
                      "zerolinewidth": 2
                    }
                  }
                },
                "xaxis": {
                  "anchor": "y",
                  "domain": [
                    0,
                    1
                  ],
                  "title": {
                    "text": "Frequency (Hz)"
                  }
                },
                "yaxis": {
                  "anchor": "x",
                  "domain": [
                    0,
                    1
                  ],
                  "title": {
                    "text": "FFT Amplitude |X(frequency)|"
                  }
                }
              }
            }
          },
          "metadata": {},
          "output_type": "display_data"
        }
      ],
      "source": [
        "import plotly.express as px\n",
        "\n",
        "# List arguments in wide form\n",
        "\n",
        "fig = px.line(y= np.abs(X[:n_oneside]),x= f_oneside, labels={'x':'Frequency (Hz)', 'y':'FFT Amplitude |X(frequency)|'})\n",
        "fig.show()"
      ]
    },
    {
      "cell_type": "markdown",
      "metadata": {},
      "source": [
        "### Now let's plot frequency response for each spatial location!\n"
      ]
    },
    {
      "cell_type": "code",
      "execution_count": null,
      "metadata": {},
      "outputs": [],
      "source": [
        "import plotly.express as px\n",
        "\n",
        "px.imshow(np.abs(np.fft.fft(gabor_filtered[:,:, 244], axis=0))) #0-100 x , y= 245"
      ]
    },
    {
      "cell_type": "markdown",
      "metadata": {},
      "source": [
        "### SVD for mode extraction"
      ]
    },
    {
      "cell_type": "code",
      "execution_count": 18,
      "metadata": {},
      "outputs": [
        {
          "name": "stdout",
          "output_type": "stream",
          "text": [
            "Shape of reshaped frame is:  (733, 89960)\n",
            "Shape of gabor filtered data is:  (733, 260, 346)\n"
          ]
        }
      ],
      "source": [
        "time_index = np.shape(frames)[0]\n",
        "reshaped = frames[:,0,:,:].reshape((time_index, -1))\n",
        "print(\"Shape of reshaped frame is: \", np.shape(reshaped))\n",
        "print(\"Shape of gabor filtered data is: \", np.shape(frames[:,0,:,:]))"
      ]
    },
    {
      "cell_type": "code",
      "execution_count": 31,
      "metadata": {},
      "outputs": [],
      "source": [
        "from sklearn.decomposition import PCA\n",
        "\n",
        "pca = PCA().fit(reshaped) # ~ mins"
      ]
    },
    {
      "cell_type": "code",
      "execution_count": 40,
      "metadata": {},
      "outputs": [],
      "source": [
        "# frames vs gabor filtered\n",
        "TrainingModes = reshaped\n",
        "avgMode = np.mean(TrainingModes, axis=0) #~17 mins... or 40s....\n",
        "\n",
        "m = (np.shape(frames[:,0,:,:])[1])\n",
        "n = (np.shape(frames[:,0,:,:])[2])\n",
        "\n",
        "\n",
        "# Compute eigenmodes on mean subtracted data\n",
        "X = TrainingModes*avgMode\n",
        "U, S, VT = np.linalg.svd(X.T, full_matrices=0) #ignore zeros in UV?\n",
        "\n",
        "fig1 = plt.figure()\n",
        "ax1 = fig1.add_subplot(121)\n",
        "img_avg = ax1.imshow(np.reshape(avgMode,(m,n)).T)\n",
        "img_avg.set_cmap('gray')\n",
        "plt.axis('off')\n",
        "\n",
        "ax2 = fig1.add_subplot(122)\n",
        "img_u1 = ax2.imshow(np.reshape(U[:,1],(m,n)).T)\n",
        "img_u1.set_cmap('gray')\n",
        "plt.axis('off')\n",
        "\n",
        "plt.show()"
      ]
    },
    {
      "cell_type": "code",
      "execution_count": 35,
      "metadata": {},
      "outputs": [
        {
          "data": {
            "text/plain": [
              "(733,)"
            ]
          },
          "execution_count": 35,
          "metadata": {},
          "output_type": "execute_result"
        }
      ],
      "source": [
        "np.shape(S)"
      ]
    },
    {
      "cell_type": "code",
      "execution_count": 37,
      "metadata": {},
      "outputs": [],
      "source": [
        "plt.figure()\n",
        "plt.plot(S[0:4])\n",
        "plt.show()"
      ]
    },
    {
      "cell_type": "code",
      "execution_count": 42,
      "metadata": {},
      "outputs": [
        {
          "data": {
            "text/plain": [
              "(9820, 89960)"
            ]
          },
          "execution_count": 42,
          "metadata": {},
          "output_type": "execute_result"
        }
      ],
      "source": [
        "np.max(U[:,np.argmab\n",
        "x(S)])\n",
        "X.shape"
      ]
    },
    {
      "cell_type": "code",
      "execution_count": 46,
      "metadata": {},
      "outputs": [
        {
          "data": {
            "text/plain": [
              "[<matplotlib.lines.Line2D at 0x27499cda0d0>]"
            ]
          },
          "execution_count": 46,
          "metadata": {},
          "output_type": "execute_result"
        }
      ],
      "source": [
        "U.shape\n",
        "a = np.sum(X, axis=1)\n",
        "plt.figure()\n",
        "plt.plot(a,',')"
      ]
    },
    {
      "cell_type": "code",
      "execution_count": null,
      "metadata": {},
      "outputs": [
        {
          "data": {
            "text/plain": [
              "<matplotlib.image.AxesImage at 0x274a0060eb0>"
            ]
          },
          "execution_count": 53,
          "metadata": {},
          "output_type": "execute_result"
        }
      ],
      "source": [
        "np.max(X[0,])\n",
        "plt.figure()\n",
        "plt.imshow(X[0,].reshape(m,n))"
      ]
    },
    {
      "cell_type": "code",
      "execution_count": 51,
      "metadata": {},
      "outputs": [
        {
          "data": {
            "text/plain": [
              "()"
            ]
          },
          "execution_count": 51,
          "metadata": {},
          "output_type": "execute_result"
        }
      ],
      "source": [
        "np.shape(U)\n",
        "x[0,].shape"
      ]
    },
    {
      "cell_type": "code",
      "execution_count": 30,
      "metadata": {},
      "outputs": [
        {
          "data": {
            "text/plain": [
              "0.0"
            ]
          },
          "execution_count": 30,
          "metadata": {},
          "output_type": "execute_result"
        }
      ],
      "source": [
        "S[6406]"
      ]
    },
    {
      "cell_type": "code",
      "execution_count": 32,
      "metadata": {},
      "outputs": [
        {
          "data": {
            "text/plain": [
              "2090"
            ]
          },
          "execution_count": 32,
          "metadata": {},
          "output_type": "execute_result"
        }
      ],
      "source": [
        "np.argmax(S)"
      ]
    },
    {
      "cell_type": "code",
      "execution_count": 33,
      "metadata": {},
      "outputs": [
        {
          "data": {
            "text/plain": [
              "0.08391038696537678"
            ]
          },
          "execution_count": 33,
          "metadata": {},
          "output_type": "execute_result"
        }
      ],
      "source": [
        "S[2090]"
      ]
    },
    {
      "cell_type": "code",
      "execution_count": 31,
      "metadata": {},
      "outputs": [],
      "source": [
        "plt.figure()\n",
        "plt.plot(S)\n",
        "plt.show()"
      ]
    },
    {
      "cell_type": "code",
      "execution_count": 25,
      "metadata": {},
      "outputs": [],
      "source": [
        "fig1 = plt.figure()\n",
        "ax1 = fig1.add_subplot(121)\n",
        "img_avg = ax1.imshow(np.reshape(avgMode,(m,n)).T)\n",
        "img_avg.set_cmap('gray')\n",
        "plt.axis('off')\n",
        "\n",
        "ax2 = fig1.add_subplot(122)\n",
        "img_u1 = ax2.imshow(np.reshape(U[:,6406],(m,n)).T)\n",
        "img_u1.set_cmap('gray')\n",
        "plt.axis('off')\n",
        "\n",
        "plt.show()"
      ]
    },
    {
      "cell_type": "code",
      "execution_count": 16,
      "metadata": {},
      "outputs": [
        {
          "name": "stdout",
          "output_type": "stream",
          "text": [
            "(346, 260)\n"
          ]
        }
      ],
      "source": [
        "print(np.shape(np.reshape(U[:,1],(m,n)).T))"
      ]
    },
    {
      "cell_type": "code",
      "execution_count": 25,
      "metadata": {},
      "outputs": [
        {
          "name": "stdout",
          "output_type": "stream",
          "text": [
            "1\n"
          ]
        }
      ],
      "source": [
        "print(np.max(frames[5799,0,:, :]))\n",
        "plt.figure()\n",
        "plt.imshow(frames[5799,0,:, :])\n",
        "plt.show()"
      ]
    },
    {
      "cell_type": "markdown",
      "metadata": {},
      "source": [
        "### Save as image for analysis."
      ]
    },
    {
      "cell_type": "code",
      "execution_count": 26,
      "metadata": {},
      "outputs": [
        {
          "name": "stdout",
          "output_type": "stream",
          "text": [
            "(260, 346)\n",
            "255\n"
          ]
        }
      ],
      "source": [
        "data = frames[5785,0,:, :]\n",
        "\n",
        "data =  (data - np.min(data)) / (np.max(data) - np.min(data))\n",
        "\n",
        "print(np.shape(data)) \n",
        "\n",
        "test_time_surface = data\n",
        "\n",
        "\n",
        "from PIL import Image \n",
        "test_time_surface = (test_time_surface*255).astype(np.uint8)\n",
        "print(np.max(test_time_surface))\n",
        "\n",
        "image = Image.fromarray(test_time_surface)\n",
        "image.save('test_time_surface.png', format=\"png\")"
      ]
    },
    {
      "cell_type": "markdown",
      "metadata": {},
      "source": [
        "### Try visualizing gabor filters"
      ]
    },
    {
      "cell_type": "code",
      "execution_count": 20,
      "metadata": {},
      "outputs": [
        {
          "data": {
            "image/png": "[encoded data removed]",
            "text/plain": [
              "<Figure size 720x720 with 9 Axes>"
            ]
          },
          "metadata": {
            "needs_background": "light"
          },
          "output_type": "display_data"
        }
      ],
      "source": [
        "%matplotlib qt \n",
        "import cv2\n",
        "import numpy as np\n",
        "import matplotlib.pyplot as plt\n",
        "from matplotlib.widgets import Slider, Button\n",
        "\n",
        "\n",
        "# read img and set gray color\n",
        "img = cv2.imread('test_time_surface.png')\n",
        "img = cv2.cvtColor(img, cv2.COLOR_BGR2GRAY)\n",
        "\n",
        "\n",
        "# dashboard settings\n",
        "fig, (ax, ax_2) = plt.subplots(1, 2, figsize=(10,10))\n",
        "plt.subplots_adjust(left=0.25, bottom=0.45)\n",
        "\n",
        "# create slider spaces\n",
        "axcolor = 'lightgoldenrodyellow'\n",
        "ax_sliders = [plt.axes([0.25, 0.1 + 0.05 * i, 0.65, 0.03], facecolor=axcolor) for i in range(6)]\n",
        "\n",
        "# define parameter sliders\n",
        "ksize = Slider(ax_sliders[0], 'ksize', 1, 40, valinit=21, valstep=1)\n",
        "sigma = Slider(ax_sliders[1], 'sigma', 0.1, 20.0, valinit=8, valstep=0.1)\n",
        "lambd = Slider(ax_sliders[2], 'lambd', 0.1, 20.0, valinit=10, valstep=0.1)\n",
        "gamma = Slider(ax_sliders[3], 'gamma', 0.1, 1, valinit=0.5, valstep=0.05)\n",
        "psi = Slider(ax_sliders[4], 'psi', -10, 10, valinit=0, valstep=1)\n",
        "theta = Slider(ax_sliders[5], 'theta', -5, 5, valinit=0, valstep=0.1)\n",
        "\n",
        "sliders = [ksize, sigma, lambd, gamma, psi, theta]\n",
        "\n",
        "\n",
        "def update(val):\n",
        "    # on slider update recalculate gabor kernel\n",
        "    g_kernel = cv2.getGaborKernel(ksize=(ksize.val, ksize.val),\n",
        "                                  sigma=sigma.val,\n",
        "                                  theta=np.pi / 4 * theta.val,\n",
        "                                  lambd=lambd.val,\n",
        "                                  gamma=gamma.val,\n",
        "                                  psi=psi.val,\n",
        "                                  ktype=cv2.CV_32F)\n",
        "    # recalculate img result\n",
        "    res = cv2.filter2D(img, cv2.CV_8UC3, g_kernel)\n",
        "\n",
        "    # show new img and gabor kernel\n",
        "    ax.imshow(res, interpolation=\"nearest\", cmap='gray')\n",
        "    ax.set_title('gabor result on img', fontsize=10)\n",
        "    ax_2.imshow(g_kernel, interpolation=\"nearest\", cmap='gray')\n",
        "    ax_2.set_title('g_kernel', fontsize=10)\n",
        "\n",
        "\n",
        "for i in sliders:\n",
        "    i.on_changed(update)\n",
        "\n",
        "update(None)\n",
        "\n",
        "resetax = plt.axes([0.8, 0.025, 0.1, 0.04])\n",
        "button = Button(resetax, 'Reset', color=axcolor, hovercolor='0.975')\n",
        "\n",
        "\n",
        "def reset(event):\n",
        "    for slider in sliders:\n",
        "        slider.reset()\n",
        "\n",
        "\n",
        "button.on_clicked(reset)\n",
        "plt.show()\n",
        "\n",
        "%matplotlib inline"
      ]
    },
    {
      "cell_type": "markdown",
      "metadata": {},
      "source": []
    },
    {
      "cell_type": "code",
      "execution_count": null,
      "metadata": {},
      "outputs": [],
      "source": [
        "np.shape(frames)\n",
        "\n",
        "%matplotlib inline \n",
        "import matplotlib.pyplot as plt\n",
        "\n",
        "def plot_frames(frames):\n",
        "    fig, axes = plt.subplots(1, len(frames), figsize=(20,20))\n",
        "    for axis, frame in zip(axes, frames):\n",
        "        print(np.shape(frame))\n",
        "        axis.imshow(frame[1])\n",
        "        print(np.max(frame[1]))\n",
        "        axis.axis(\"off\")\n",
        "    plt.tight_layout()\n",
        "        \n",
        "plot_frames(frames)"
      ]
    },
    {
      "cell_type": "code",
      "execution_count": null,
      "metadata": {},
      "outputs": [],
      "source": []
    },
    {
      "cell_type": "code",
      "execution_count": null,
      "metadata": {},
      "outputs": [],
      "source": [
        "### Now apply gabor filter in each event neighbourhood of 10x10\n",
        "\n"
      ]
    },
    {
      "cell_type": "code",
      "execution_count": null,
      "metadata": {},
      "outputs": [],
      "source": [
        "sensor_size = tonic.datasets.DAVISDATA.sensor_size\n",
        "sensor_size"
      ]
    },
    {
      "cell_type": "code",
      "execution_count": null,
      "metadata": {},
      "outputs": [],
      "source": [
        "# turn into 3d numpy array for easy time surface manipulation \n",
        "\n",
        "# Combine x and y into indexable spatial coordinate \n",
        "event_xy = np.vstack((x,y))\n",
        "np.shape(event_xy)\n",
        "\n",
        "# Loop through every element to create time surface.\n",
        "for polarity in p: "
      ]
    }
  ],
  "metadata": {
    "interpreter": {
      "hash": "17b37b9aefa325967b7341133c8e40cd84094e257b12161d8f1fa097016e52eb"
    },
    "kernelspec": {
      "display_name": "Python 3.8.5 64-bit ('base': conda)",
      "name": "python3"
    },
    "language_info": {
      "codemirror_mode": {
        "name": "ipython",
        "version": 3
      },
      "file_extension": ".py",
      "mimetype": "text/x-python",
      "name": "python",
      "nbconvert_exporter": "python",
      "pygments_lexer": "ipython3",
      "version": "3.8.5"
    }
  },
  "nbformat": 4,
  "nbformat_minor": 0
}
